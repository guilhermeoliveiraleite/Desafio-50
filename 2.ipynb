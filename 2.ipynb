{
 "cells": [
  {
   "cell_type": "code",
   "execution_count": 28,
   "metadata": {},
   "outputs": [
    {
     "name": "stdout",
     "output_type": "stream",
     "text": [
      "Vezes que a vogal A apareceu: 109\n",
      "Vezes que a vogal E apareceu: 64\n",
      "Vezes que a vogal I apareceu: 33\n",
      "Vezes que a vogal O apareceu: 92\n",
      "Vezes que a vogal U apareceu: 41\n"
     ]
    }
   ],
   "source": [
    "vogal = \"exagerado_letra.txt\"\n",
    "letra = \"a\"\n",
    "letra2 = \"e\"\n",
    "letra3 = \"i\"\n",
    "letra4 = \"o\"\n",
    "letra5 = \"u\"\n",
    "\n",
    "arquivo = open(vogal, \"r\", encoding=\"utf-8\")\n",
    "\n",
    "\n",
    " \n",
    "conteudo = arquivo.read()\n",
    "\n",
    "\n",
    "conteudo = conteudo.lower()\n",
    "\n",
    "\n",
    "\n",
    "cont = conteudo.count(letra.lower())\n",
    "cont2 = conteudo.count(letra2.lower())\n",
    "cont3 = conteudo.count(letra3.lower())\n",
    "cont4 = conteudo.count(letra4.lower())\n",
    "cont5 = conteudo.count(letra5.lower())\n",
    "\n",
    "print(f\"Vezes que a vogal {letra.upper()} apareceu: {cont}\")\n",
    "\n",
    "print(f\"Vezes que a vogal {letra2.upper()} apareceu: {cont2}\")\n",
    "\n",
    "print(f\"Vezes que a vogal {letra3.upper()} apareceu: {cont3}\")\n",
    "\n",
    "print(f\"Vezes que a vogal {letra4.upper()} apareceu: {cont4}\")\n",
    "\n",
    "print(f\"Vezes que a vogal {letra5.upper()} apareceu: {cont5}\")\n",
    "\n",
    "arquivo.close()"
   ]
  },
  {
   "cell_type": "code",
   "execution_count": null,
   "metadata": {},
   "outputs": [],
   "source": []
  }
 ],
 "metadata": {
  "kernelspec": {
   "display_name": "Python 3",
   "language": "python",
   "name": "python3"
  },
  "language_info": {
   "codemirror_mode": {
    "name": "ipython",
    "version": 3
   },
   "file_extension": ".py",
   "mimetype": "text/x-python",
   "name": "python",
   "nbconvert_exporter": "python",
   "pygments_lexer": "ipython3",
   "version": "3.12.4"
  }
 },
 "nbformat": 4,
 "nbformat_minor": 2
}
